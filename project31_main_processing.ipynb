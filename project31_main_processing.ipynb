{
 "cells": [
  {
   "metadata": {},
   "cell_type": "markdown",
   "source": "# NEWSPAPER TITLE CLASSIFICATION BASED ON KNN, KMEANS AND DECISION TREE",
   "id": "2132299393a96450"
  },
  {
   "metadata": {},
   "cell_type": "markdown",
   "source": "To have general view & data structure of Project, refer the `Readme.md` of this Project and general structure of project",
   "id": "42662c5fddf4973b"
  },
  {
   "metadata": {},
   "cell_type": "markdown",
   "source": "![General Structure](general_structure.png)",
   "id": "59becc4a75a05a3b"
  },
  {
   "metadata": {},
   "cell_type": "markdown",
   "source": "## 1. IMPORT LIBRARY",
   "id": "a79b7755daedafa"
  },
  {
   "cell_type": "code",
   "id": "initial_id",
   "metadata": {
    "collapsed": true,
    "ExecuteTime": {
     "end_time": "2025-08-15T06:55:34.390294Z",
     "start_time": "2025-08-15T06:55:33.867378Z"
    }
   },
   "source": [
    "import math\n",
    "import pandas as pd\n",
    "import numpy as np\n",
    "import matplotlib.pyplot as plt\n",
    "import seaborn as sns\n",
    "from langchain.evaluation import load_dataset"
   ],
   "outputs": [],
   "execution_count": 8
  },
  {
   "metadata": {
    "ExecuteTime": {
     "end_time": "2025-08-15T06:55:34.644159Z",
     "start_time": "2025-08-15T06:55:34.396506Z"
    }
   },
   "cell_type": "code",
   "source": [
    "import re\n",
    "import nltk # use in case"
   ],
   "id": "690c66133f95e2eb",
   "outputs": [],
   "execution_count": 9
  },
  {
   "metadata": {
    "ExecuteTime": {
     "end_time": "2025-08-15T06:55:34.707434Z",
     "start_time": "2025-08-15T06:55:34.651291Z"
    }
   },
   "cell_type": "code",
   "source": [
    "from sklearn.feature_extraction.text import CountVectorizer, TfidfVectorizer\n",
    "from sklearn.model_selection import train_test_split\n",
    "from sklearn.neighbors import KNeighborsClassifier\n",
    "from sklearn.tree import DecisionTreeClassifier\n",
    "from sklearn.cluster import KMeans\n",
    "from sklearn.preprocessing import StandardScaler\n",
    "from sklearn.metrics import classification_report, f1_score, accuracy_score, confusion_matrix"
   ],
   "id": "b2fc68d6fc60363",
   "outputs": [],
   "execution_count": 10
  },
  {
   "metadata": {},
   "cell_type": "markdown",
   "source": "## 2. DATA FEATURE EXTRACTION",
   "id": "f743167a136c2f41"
  },
  {
   "metadata": {},
   "cell_type": "markdown",
   "source": "`Note: Refer the Readme.md for Data source collection`",
   "id": "ca1de0a7af862900"
  },
  {
   "metadata": {
    "ExecuteTime": {
     "end_time": "2025-08-15T06:55:38.234322Z",
     "start_time": "2025-08-15T06:55:34.719096Z"
    }
   },
   "cell_type": "code",
   "source": [
    "from datasets import load_dataset\n",
    "ds = load_dataset('UniverseTBD/arxiv-abstracts-large')"
   ],
   "id": "6194995cd948e0c8",
   "outputs": [],
   "execution_count": 11
  },
  {
   "metadata": {},
   "cell_type": "markdown",
   "source": "Dataset is dictionary collection with feature fields",
   "id": "6537d73882e883b3"
  },
  {
   "metadata": {
    "ExecuteTime": {
     "end_time": "2025-08-15T06:56:13.851177Z",
     "start_time": "2025-08-15T06:56:13.848474Z"
    }
   },
   "cell_type": "code",
   "source": [
    "print(type(ds))\n",
    "ds"
   ],
   "id": "6b8981d09ac5ba5a",
   "outputs": [
    {
     "name": "stdout",
     "output_type": "stream",
     "text": [
      "<class 'datasets.dataset_dict.DatasetDict'>\n"
     ]
    },
    {
     "data": {
      "text/plain": [
       "DatasetDict({\n",
       "    train: Dataset({\n",
       "        features: ['id', 'submitter', 'authors', 'title', 'comments', 'journal-ref', 'doi', 'report-no', 'categories', 'license', 'abstract', 'versions', 'update_date', 'authors_parsed'],\n",
       "        num_rows: 2292057\n",
       "    })\n",
       "})"
      ]
     },
     "execution_count": 14,
     "metadata": {},
     "output_type": "execute_result"
    }
   ],
   "execution_count": 14
  },
  {
   "metadata": {},
   "cell_type": "markdown",
   "source": [
    "Find the path of the data files\n",
    "\n",
    "The data has been downloaded then stored in the path (with Linux)\n",
    "\"/home/anhvt/.cache/huggingface/datasets/UniverseTBD___arxiv-abstracts-large/default/*.arrow\"\n",
    "\n",
    "During loading wiht dataset, the command load_dataset shall be removed to cancel the download program"
   ],
   "id": "f627a43de5f7a8c"
  },
  {
   "metadata": {
    "ExecuteTime": {
     "end_time": "2025-08-15T06:56:25.440974Z",
     "start_time": "2025-08-15T06:56:25.437463Z"
    }
   },
   "cell_type": "code",
   "source": [
    "# list down the path of data file\n",
    "print(ds.cache_files)"
   ],
   "id": "e0485d0117a9c7c4",
   "outputs": [
    {
     "name": "stdout",
     "output_type": "stream",
     "text": [
      "{'train': [{'filename': '/home/anhvt/.cache/huggingface/datasets/UniverseTBD___arxiv-abstracts-large/default/0.0.0/6020a62078a73d7ca02b86a4a775af7caba42d5e/arxiv-abstracts-large-train-00000-of-00007.arrow'}, {'filename': '/home/anhvt/.cache/huggingface/datasets/UniverseTBD___arxiv-abstracts-large/default/0.0.0/6020a62078a73d7ca02b86a4a775af7caba42d5e/arxiv-abstracts-large-train-00001-of-00007.arrow'}, {'filename': '/home/anhvt/.cache/huggingface/datasets/UniverseTBD___arxiv-abstracts-large/default/0.0.0/6020a62078a73d7ca02b86a4a775af7caba42d5e/arxiv-abstracts-large-train-00002-of-00007.arrow'}, {'filename': '/home/anhvt/.cache/huggingface/datasets/UniverseTBD___arxiv-abstracts-large/default/0.0.0/6020a62078a73d7ca02b86a4a775af7caba42d5e/arxiv-abstracts-large-train-00003-of-00007.arrow'}, {'filename': '/home/anhvt/.cache/huggingface/datasets/UniverseTBD___arxiv-abstracts-large/default/0.0.0/6020a62078a73d7ca02b86a4a775af7caba42d5e/arxiv-abstracts-large-train-00004-of-00007.arrow'}, {'filename': '/home/anhvt/.cache/huggingface/datasets/UniverseTBD___arxiv-abstracts-large/default/0.0.0/6020a62078a73d7ca02b86a4a775af7caba42d5e/arxiv-abstracts-large-train-00005-of-00007.arrow'}, {'filename': '/home/anhvt/.cache/huggingface/datasets/UniverseTBD___arxiv-abstracts-large/default/0.0.0/6020a62078a73d7ca02b86a4a775af7caba42d5e/arxiv-abstracts-large-train-00006-of-00007.arrow'}]}\n"
     ]
    }
   ],
   "execution_count": 15
  },
  {
   "metadata": {},
   "cell_type": "markdown",
   "source": "Collect the fields by keys of dict dataset",
   "id": "4ab236ae079b822d"
  },
  {
   "metadata": {
    "ExecuteTime": {
     "end_time": "2025-08-15T09:05:59.689934Z",
     "start_time": "2025-08-15T09:05:59.687135Z"
    }
   },
   "cell_type": "code",
   "source": [
    "train = ds['train']\n",
    "topic_features = train.column_names\n",
    "print(topic_features)"
   ],
   "id": "5e73a37af04572cb",
   "outputs": [
    {
     "name": "stdout",
     "output_type": "stream",
     "text": [
      "['id', 'submitter', 'authors', 'title', 'comments', 'journal-ref', 'doi', 'report-no', 'categories', 'license', 'abstract', 'versions', 'update_date', 'authors_parsed']\n"
     ]
    }
   ],
   "execution_count": 20
  },
  {
   "metadata": {},
   "cell_type": "code",
   "outputs": [],
   "execution_count": null,
   "source": "",
   "id": "153efc909f01f1fc"
  }
 ],
 "metadata": {
  "kernelspec": {
   "display_name": "Python 3",
   "language": "python",
   "name": "python3"
  },
  "language_info": {
   "codemirror_mode": {
    "name": "ipython",
    "version": 2
   },
   "file_extension": ".py",
   "mimetype": "text/x-python",
   "name": "python",
   "nbconvert_exporter": "python",
   "pygments_lexer": "ipython2",
   "version": "2.7.6"
  }
 },
 "nbformat": 4,
 "nbformat_minor": 5
}
