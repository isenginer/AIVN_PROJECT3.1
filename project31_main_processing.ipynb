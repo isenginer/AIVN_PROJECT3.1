{
 "cells": [
  {
   "metadata": {},
   "cell_type": "markdown",
   "source": "# NEWSPAPER TITLE CLASSIFICATION BASED ON KNN, KMEANS AND DECISION TREE",
   "id": "2132299393a96450"
  },
  {
   "metadata": {},
   "cell_type": "markdown",
   "source": "To have general view & data structure of Project, refer the `Readme.md` of this Project and general structure of project",
   "id": "42662c5fddf4973b"
  },
  {
   "metadata": {},
   "cell_type": "markdown",
   "source": "![General Structure](general_structure.png)",
   "id": "59becc4a75a05a3b"
  },
  {
   "metadata": {},
   "cell_type": "markdown",
   "source": "## 1. IMPORT LIBRARY",
   "id": "a79b7755daedafa"
  },
  {
   "cell_type": "code",
   "id": "initial_id",
   "metadata": {
    "collapsed": true,
    "ExecuteTime": {
     "end_time": "2025-08-12T10:03:48.273213Z",
     "start_time": "2025-08-12T10:03:48.270410Z"
    }
   },
   "source": [
    "import math\n",
    "import pandas as pd\n",
    "import numpy as np\n",
    "import matplotlib.pyplot as plt\n",
    "import seaborn as sns"
   ],
   "outputs": [],
   "execution_count": 1
  },
  {
   "metadata": {
    "ExecuteTime": {
     "end_time": "2025-08-12T10:09:28.668282Z",
     "start_time": "2025-08-12T10:09:28.339323Z"
    }
   },
   "cell_type": "code",
   "source": [
    "import re\n",
    "import nltk # use in case"
   ],
   "id": "690c66133f95e2eb",
   "outputs": [],
   "execution_count": 3
  },
  {
   "metadata": {
    "ExecuteTime": {
     "end_time": "2025-08-12T10:33:20.971790Z",
     "start_time": "2025-08-12T10:33:20.940856Z"
    }
   },
   "cell_type": "code",
   "source": [
    "from sklearn.feature_extraction.text import CountVectorizer, TfidfVectorizer\n",
    "from sklearn.model_selection import train_test_split\n",
    "from sklearn.neighbors import KNeighborsClassifier\n",
    "from sklearn.tree import DecisionTreeClassifier\n",
    "from sklearn.cluster import KMeans\n",
    "from sklearn.preprocessing import StandardScaler\n",
    "from sklearn.metrics import classification_report, f1_score, accuracy_score, confusion_matrix"
   ],
   "id": "b2fc68d6fc60363",
   "outputs": [],
   "execution_count": 4
  },
  {
   "metadata": {},
   "cell_type": "markdown",
   "source": "## 2. DATA FEATURE EXTRACTION",
   "id": "f743167a136c2f41"
  },
  {
   "metadata": {},
   "cell_type": "code",
   "outputs": [],
   "execution_count": null,
   "source": "",
   "id": "6194995cd948e0c8"
  }
 ],
 "metadata": {
  "kernelspec": {
   "display_name": "Python 3",
   "language": "python",
   "name": "python3"
  },
  "language_info": {
   "codemirror_mode": {
    "name": "ipython",
    "version": 2
   },
   "file_extension": ".py",
   "mimetype": "text/x-python",
   "name": "python",
   "nbconvert_exporter": "python",
   "pygments_lexer": "ipython2",
   "version": "2.7.6"
  }
 },
 "nbformat": 4,
 "nbformat_minor": 5
}
