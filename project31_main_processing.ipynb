{
 "cells": [
  {
   "metadata": {},
   "cell_type": "markdown",
   "source": "# NEWSPAPER TITLE CLASSIFICATION BASED ON KNN, KMEANS AND DECISION TREE",
   "id": "2132299393a96450"
  },
  {
   "metadata": {},
   "cell_type": "markdown",
   "source": "To have general view & data structure of Project, refer the `Readme.md` of this Project and general structure of project",
   "id": "42662c5fddf4973b"
  },
  {
   "metadata": {},
   "cell_type": "markdown",
   "source": "![General Structure](general_structure.png)",
   "id": "59becc4a75a05a3b"
  },
  {
   "metadata": {},
   "cell_type": "markdown",
   "source": "## 1. IMPORT LIBRARY",
   "id": "a79b7755daedafa"
  },
  {
   "cell_type": "code",
   "id": "initial_id",
   "metadata": {
    "collapsed": true,
    "ExecuteTime": {
     "end_time": "2025-08-19T13:46:56.746002Z",
     "start_time": "2025-08-19T13:46:56.318409Z"
    }
   },
   "source": [
    "import math\n",
    "import pandas as pd\n",
    "import numpy as np\n",
    "import matplotlib.pyplot as plt\n",
    "import seaborn as sns\n",
    "from chromadb.api.types import normalize_embeddings\n",
    "from langchain.evaluation import load_dataset\n",
    "from sentence_transformers import SentenceTransformer"
   ],
   "outputs": [],
   "execution_count": 1
  },
  {
   "metadata": {
    "ExecuteTime": {
     "end_time": "2025-08-19T13:46:56.974822Z",
     "start_time": "2025-08-19T13:46:56.752834Z"
    }
   },
   "cell_type": "code",
   "source": [
    "import re\n",
    "import nltk # use in case"
   ],
   "id": "690c66133f95e2eb",
   "outputs": [],
   "execution_count": 2
  },
  {
   "metadata": {
    "ExecuteTime": {
     "end_time": "2025-08-19T13:46:57.009373Z",
     "start_time": "2025-08-19T13:46:56.982482Z"
    }
   },
   "cell_type": "code",
   "source": [
    "from sklearn.feature_extraction.text import CountVectorizer, TfidfVectorizer\n",
    "from sklearn.model_selection import train_test_split\n",
    "from sklearn.neighbors import KNeighborsClassifier\n",
    "from sklearn.tree import DecisionTreeClassifier\n",
    "from sklearn.cluster import KMeans\n",
    "from sklearn.preprocessing import StandardScaler\n",
    "from sklearn.metrics import classification_report, f1_score, accuracy_score, confusion_matrix"
   ],
   "id": "b2fc68d6fc60363",
   "outputs": [],
   "execution_count": 3
  },
  {
   "metadata": {},
   "cell_type": "markdown",
   "source": "## 2. DATA FEATURE EXTRACTION",
   "id": "f743167a136c2f41"
  },
  {
   "metadata": {},
   "cell_type": "markdown",
   "source": "`Note: Refer the Readme.md for Data source collection`",
   "id": "ca1de0a7af862900"
  },
  {
   "metadata": {
    "ExecuteTime": {
     "end_time": "2025-08-19T13:47:01.455350Z",
     "start_time": "2025-08-19T13:46:57.037295Z"
    }
   },
   "cell_type": "code",
   "source": [
    "from datasets import load_dataset\n",
    "ds = load_dataset('UniverseTBD/arxiv-abstracts-large')"
   ],
   "id": "6194995cd948e0c8",
   "outputs": [
    {
     "name": "stderr",
     "output_type": "stream",
     "text": [
      "/media/anhvt/DATA/_PyLIB_LINUX/.venv/lib/python3.12/site-packages/tqdm/auto.py:21: TqdmWarning: IProgress not found. Please update jupyter and ipywidgets. See https://ipywidgets.readthedocs.io/en/stable/user_install.html\n",
      "  from .autonotebook import tqdm as notebook_tqdm\n"
     ]
    }
   ],
   "execution_count": 4
  },
  {
   "metadata": {},
   "cell_type": "markdown",
   "source": "Dataset is dictionary collection with feature fields",
   "id": "6537d73882e883b3"
  },
  {
   "metadata": {
    "ExecuteTime": {
     "end_time": "2025-08-19T13:47:01.514230Z",
     "start_time": "2025-08-19T13:47:01.509807Z"
    }
   },
   "cell_type": "code",
   "source": [
    "print(type(ds))\n",
    "ds"
   ],
   "id": "6b8981d09ac5ba5a",
   "outputs": [
    {
     "name": "stdout",
     "output_type": "stream",
     "text": [
      "<class 'datasets.dataset_dict.DatasetDict'>\n"
     ]
    },
    {
     "data": {
      "text/plain": [
       "DatasetDict({\n",
       "    train: Dataset({\n",
       "        features: ['id', 'submitter', 'authors', 'title', 'comments', 'journal-ref', 'doi', 'report-no', 'categories', 'license', 'abstract', 'versions', 'update_date', 'authors_parsed'],\n",
       "        num_rows: 2292057\n",
       "    })\n",
       "})"
      ]
     },
     "execution_count": 5,
     "metadata": {},
     "output_type": "execute_result"
    }
   ],
   "execution_count": 5
  },
  {
   "metadata": {},
   "cell_type": "markdown",
   "source": [
    "> Find the path of the data files:\n",
    "\n",
    "The data has been downloaded then stored in the path (with Linux)\n",
    "\"/home/anhvt/.cache/huggingface/datasets/UniverseTBD___arxiv-abstracts-large/default/*.arrow\"\n",
    "\n",
    "During loading wiht dataset, the command load_dataset shall be removed to cancel the download program"
   ],
   "id": "f627a43de5f7a8c"
  },
  {
   "metadata": {
    "ExecuteTime": {
     "end_time": "2025-08-19T13:47:01.569455Z",
     "start_time": "2025-08-19T13:47:01.567018Z"
    }
   },
   "cell_type": "code",
   "source": [
    "# list down the path of data file\n",
    "print(ds.cache_files)"
   ],
   "id": "e0485d0117a9c7c4",
   "outputs": [
    {
     "name": "stdout",
     "output_type": "stream",
     "text": [
      "{'train': [{'filename': '/home/anhvt/.cache/huggingface/datasets/UniverseTBD___arxiv-abstracts-large/default/0.0.0/6020a62078a73d7ca02b86a4a775af7caba42d5e/arxiv-abstracts-large-train-00000-of-00007.arrow'}, {'filename': '/home/anhvt/.cache/huggingface/datasets/UniverseTBD___arxiv-abstracts-large/default/0.0.0/6020a62078a73d7ca02b86a4a775af7caba42d5e/arxiv-abstracts-large-train-00001-of-00007.arrow'}, {'filename': '/home/anhvt/.cache/huggingface/datasets/UniverseTBD___arxiv-abstracts-large/default/0.0.0/6020a62078a73d7ca02b86a4a775af7caba42d5e/arxiv-abstracts-large-train-00002-of-00007.arrow'}, {'filename': '/home/anhvt/.cache/huggingface/datasets/UniverseTBD___arxiv-abstracts-large/default/0.0.0/6020a62078a73d7ca02b86a4a775af7caba42d5e/arxiv-abstracts-large-train-00003-of-00007.arrow'}, {'filename': '/home/anhvt/.cache/huggingface/datasets/UniverseTBD___arxiv-abstracts-large/default/0.0.0/6020a62078a73d7ca02b86a4a775af7caba42d5e/arxiv-abstracts-large-train-00004-of-00007.arrow'}, {'filename': '/home/anhvt/.cache/huggingface/datasets/UniverseTBD___arxiv-abstracts-large/default/0.0.0/6020a62078a73d7ca02b86a4a775af7caba42d5e/arxiv-abstracts-large-train-00005-of-00007.arrow'}, {'filename': '/home/anhvt/.cache/huggingface/datasets/UniverseTBD___arxiv-abstracts-large/default/0.0.0/6020a62078a73d7ca02b86a4a775af7caba42d5e/arxiv-abstracts-large-train-00006-of-00007.arrow'}]}\n"
     ]
    }
   ],
   "execution_count": 6
  },
  {
   "metadata": {},
   "cell_type": "markdown",
   "source": "Collect the fields by keys of dict dataset",
   "id": "4ab236ae079b822d"
  },
  {
   "metadata": {
    "ExecuteTime": {
     "end_time": "2025-08-19T13:47:01.621548Z",
     "start_time": "2025-08-19T13:47:01.619037Z"
    }
   },
   "cell_type": "code",
   "source": [
    "train_ds = ds['train']\n",
    "topic_features = train_ds.column_names\n",
    "print(topic_features)"
   ],
   "id": "5e73a37af04572cb",
   "outputs": [
    {
     "name": "stdout",
     "output_type": "stream",
     "text": [
      "['id', 'submitter', 'authors', 'title', 'comments', 'journal-ref', 'doi', 'report-no', 'categories', 'license', 'abstract', 'versions', 'update_date', 'authors_parsed']\n"
     ]
    }
   ],
   "execution_count": 7
  },
  {
   "metadata": {},
   "cell_type": "markdown",
   "source": [
    "Following the guidelines of Project, the data will use 'abstract' as input or features and 'categories' as labels.\n",
    "\n",
    "For categories, the value is separate into 02 fields: main category and sub category, in example: [math.CA] [cs.CG]\n",
    "\n",
    "We shall need to extract primary category for this Project then lower the letters"
   ],
   "id": "2454f315ee039720"
  },
  {
   "metadata": {
    "ExecuteTime": {
     "end_time": "2025-08-19T13:47:03.580444Z",
     "start_time": "2025-08-19T13:47:01.668381Z"
    }
   },
   "cell_type": "code",
   "source": [
    "ds_splitted = train_ds.select_columns(['abstract', 'categories'])\n",
    "project_df = ds_splitted.to_pandas()"
   ],
   "id": "153efc909f01f1fc",
   "outputs": [],
   "execution_count": 8
  },
  {
   "metadata": {
    "ExecuteTime": {
     "end_time": "2025-08-19T13:47:05.932037Z",
     "start_time": "2025-08-19T13:47:03.640908Z"
    }
   },
   "cell_type": "code",
   "source": [
    "# separate the value to 2-dimension list: 'acc.phy math' => [acc.phy, math] => acc\n",
    "category = project_df['categories'].map(lambda x: x.split(' '))\n",
    "category = category.map(lambda x: x[0].split('.')[0])\n",
    "\n",
    "category_set = set(category)\n",
    "print(f'Length of unique primary categories is {len(category_set)}')"
   ],
   "id": "deb564e22351e6ba",
   "outputs": [
    {
     "name": "stdout",
     "output_type": "stream",
     "text": [
      "Length of unique primary categories is 38\n"
     ]
    }
   ],
   "execution_count": 9
  },
  {
   "metadata": {},
   "cell_type": "markdown",
   "source": [
    "The requirement is extract 1000-2000 Data values base on primary categories below:\n",
    "\n",
    "`[astro-ph, cond-mat, cs, math, physics]`"
   ],
   "id": "8caa10f77be83d5c"
  },
  {
   "metadata": {
    "ExecuteTime": {
     "end_time": "2025-08-19T13:47:06.658521Z",
     "start_time": "2025-08-19T13:47:05.995101Z"
    }
   },
   "cell_type": "code",
   "source": [
    "use_categories_list = ['astro-ph', 'cond-mat', 'cs', 'math', 'physics']\n",
    "\n",
    "# creat Regrex OR by '|'\n",
    "# 'astro-ph'|'cond-mat'|'cs'|'math'|'physics'\n",
    "pattern = '|'.join(use_categories_list)\n",
    "# filter the data\n",
    "project_df_filtered = project_df[project_df['categories'].str.contains(pattern, case=False, na=False)]\n",
    "# extract 2000 values in random list\n",
    "dataset_df = project_df_filtered.sample(n=2000, random_state=42)\n",
    "dataset_df.reset_index(drop=True, inplace=True)\n",
    "dataset_df.head(10)"
   ],
   "id": "e8854a26b1ec662d",
   "outputs": [
    {
     "data": {
      "text/plain": [
       "                                            abstract  \\\n",
       "0    The current computer programmings encapsulat...   \n",
       "1    Excitons, bound pairs of electrons and holes...   \n",
       "2    The odd reflections are an effective tool in...   \n",
       "3    In this study, a novel method to obtain user...   \n",
       "4    We present a method to perform the exact con...   \n",
       "5    In this paper, we investigate the properties...   \n",
       "6    The out-of-time-ordered correlation (OTOC) f...   \n",
       "7    We report the discovery of the first new pul...   \n",
       "8    A locally threshold testable language L is a...   \n",
       "9    This paper describes a simple UCCA semantic ...   \n",
       "\n",
       "                                        categories  \n",
       "0                                      cs.PL cs.SE  \n",
       "1             cond-mat.mes-hall cond-mat.quant-gas  \n",
       "2                  math.RT math-ph math.MP math.QA  \n",
       "3                                      cs.LG cs.HC  \n",
       "4                                      astro-ph.CO  \n",
       "5                                          math.GR  \n",
       "6  hep-th cond-mat.stat-mech gr-qc hep-ph quant-ph  \n",
       "7                                      astro-ph.HE  \n",
       "8                                            cs.FL  \n",
       "9                                            cs.CL  "
      ],
      "text/html": [
       "<div>\n",
       "<style scoped>\n",
       "    .dataframe tbody tr th:only-of-type {\n",
       "        vertical-align: middle;\n",
       "    }\n",
       "\n",
       "    .dataframe tbody tr th {\n",
       "        vertical-align: top;\n",
       "    }\n",
       "\n",
       "    .dataframe thead th {\n",
       "        text-align: right;\n",
       "    }\n",
       "</style>\n",
       "<table border=\"1\" class=\"dataframe\">\n",
       "  <thead>\n",
       "    <tr style=\"text-align: right;\">\n",
       "      <th></th>\n",
       "      <th>abstract</th>\n",
       "      <th>categories</th>\n",
       "    </tr>\n",
       "  </thead>\n",
       "  <tbody>\n",
       "    <tr>\n",
       "      <th>0</th>\n",
       "      <td>The current computer programmings encapsulat...</td>\n",
       "      <td>cs.PL cs.SE</td>\n",
       "    </tr>\n",
       "    <tr>\n",
       "      <th>1</th>\n",
       "      <td>Excitons, bound pairs of electrons and holes...</td>\n",
       "      <td>cond-mat.mes-hall cond-mat.quant-gas</td>\n",
       "    </tr>\n",
       "    <tr>\n",
       "      <th>2</th>\n",
       "      <td>The odd reflections are an effective tool in...</td>\n",
       "      <td>math.RT math-ph math.MP math.QA</td>\n",
       "    </tr>\n",
       "    <tr>\n",
       "      <th>3</th>\n",
       "      <td>In this study, a novel method to obtain user...</td>\n",
       "      <td>cs.LG cs.HC</td>\n",
       "    </tr>\n",
       "    <tr>\n",
       "      <th>4</th>\n",
       "      <td>We present a method to perform the exact con...</td>\n",
       "      <td>astro-ph.CO</td>\n",
       "    </tr>\n",
       "    <tr>\n",
       "      <th>5</th>\n",
       "      <td>In this paper, we investigate the properties...</td>\n",
       "      <td>math.GR</td>\n",
       "    </tr>\n",
       "    <tr>\n",
       "      <th>6</th>\n",
       "      <td>The out-of-time-ordered correlation (OTOC) f...</td>\n",
       "      <td>hep-th cond-mat.stat-mech gr-qc hep-ph quant-ph</td>\n",
       "    </tr>\n",
       "    <tr>\n",
       "      <th>7</th>\n",
       "      <td>We report the discovery of the first new pul...</td>\n",
       "      <td>astro-ph.HE</td>\n",
       "    </tr>\n",
       "    <tr>\n",
       "      <th>8</th>\n",
       "      <td>A locally threshold testable language L is a...</td>\n",
       "      <td>cs.FL</td>\n",
       "    </tr>\n",
       "    <tr>\n",
       "      <th>9</th>\n",
       "      <td>This paper describes a simple UCCA semantic ...</td>\n",
       "      <td>cs.CL</td>\n",
       "    </tr>\n",
       "  </tbody>\n",
       "</table>\n",
       "</div>"
      ]
     },
     "execution_count": 10,
     "metadata": {},
     "output_type": "execute_result"
    }
   ],
   "execution_count": 10
  },
  {
   "metadata": {},
   "cell_type": "markdown",
   "source": "## 3. DATA PROCESSING",
   "id": "366c99e1f9dc1987"
  },
  {
   "metadata": {
    "ExecuteTime": {
     "end_time": "2025-08-19T13:47:06.737102Z",
     "start_time": "2025-08-19T13:47:06.733177Z"
    }
   },
   "cell_type": "code",
   "source": [
    "# Check one value of dataset\n",
    "dataset_df.loc[1, 'abstract']"
   ],
   "id": "c24ff8873c6a1cf4",
   "outputs": [
    {
     "data": {
      "text/plain": [
       "'  Excitons, bound pairs of electrons and holes, form a model system to explore\\nthe quantum physics of cold bosons in solids. Cold exciton gases can be\\nrealized in a system of indirect excitons, which can cool down below the\\ntemperature of quantum degeneracy due to their long lifetimes. Here, we report\\non the measurement of spontaneous coherence in a gas of indirect excitons. We\\nfound that extended spontaneous coherence of excitons emerges in the region of\\nthe macroscopically ordered exciton state and in the region of vortices of\\nlinear polarization. The coherence length in these regions is much larger than\\nin a classical gas, indicating a coherent state with a much narrower than\\nclassical exciton distribution in momentum space, characteristic of a\\ncondensate. We also observed phase singularities in the coherent exciton gas.\\nExtended spontaneous coherence and phase singularities emerge when the exciton\\ngas is cooled below a few Kelvin.\\n'"
      ]
     },
     "execution_count": 11,
     "metadata": {},
     "output_type": "execute_result"
    }
   ],
   "execution_count": 11
  },
  {
   "metadata": {},
   "cell_type": "markdown",
   "source": [
    "Data Processing will perform activities below to create raw values:\n",
    "* Removes `\\n` and whitespace characters at the beginning and end of the string.\n",
    "* Removes special characters (punctuation, non-letter or numeric characters).\n",
    "* Removes digits.\n",
    "* Converts all letters to lowercase.\n",
    "* Gets the label as the primary category (first part) in the categories field."
   ],
   "id": "aed343d8efdf4687"
  },
  {
   "metadata": {
    "ExecuteTime": {
     "end_time": "2025-08-19T13:47:06.853035Z",
     "start_time": "2025-08-19T13:47:06.848349Z"
    }
   },
   "cell_type": "code",
   "source": [
    "def abstract_preprocessing(text):\n",
    "    \"\"\"\n",
    "    Function to preprocess abstracts: remove all special characters\n",
    "    :param abstract_text: the text to be preprocessed\n",
    "    :return: text after preprocessing\n",
    "    \"\"\"\n",
    "    # remove the enter space\n",
    "    text = text.strip().replace('\\n', ' ')\n",
    "    # remove the special letters\n",
    "    text = re.sub(r'[^\\w\\s]', '', text)\n",
    "    # remove digit\n",
    "    text = re.sub(r'\\d+', '', text)\n",
    "    # remove extra spaces\n",
    "    text = re.sub(r'\\s+', ' ', text).strip()\n",
    "    # lower case\n",
    "    text = text.lower()\n",
    "    return text\n",
    "\n",
    "def category_processing(text):\n",
    "    \"\"\"\n",
    "    Function to preprocess categories: collect only first part\n",
    "    :param text: catergories to be processed\n",
    "    :return: text after preprocessing\n",
    "    \"\"\"\n",
    "    text_splitted = text.split(' ')\n",
    "    text_category = text.split('.')[0]\n",
    "    return text_category"
   ],
   "id": "58752fefc819cbd5",
   "outputs": [],
   "execution_count": 12
  },
  {
   "metadata": {},
   "cell_type": "markdown",
   "source": "Test function of processing",
   "id": "83ad831ebc491674"
  },
  {
   "metadata": {
    "ExecuteTime": {
     "end_time": "2025-08-19T13:47:14.759317Z",
     "start_time": "2025-08-19T13:47:14.755924Z"
    }
   },
   "cell_type": "code",
   "source": [
    "a_sample = dataset_df.loc[1, 'abstract']\n",
    "c_sample = dataset_df.loc[6, 'categories']\n",
    "# print('before:\\n', a_sample)\n",
    "# print('after: \\n', abstract_preprocessing(a_sample))\n",
    "print('before:\\n', c_sample)\n",
    "print('after: \\n', category_processing(c_sample))"
   ],
   "id": "927bf4a471adff0f",
   "outputs": [
    {
     "name": "stdout",
     "output_type": "stream",
     "text": [
      "before:\n",
      " hep-th cond-mat.stat-mech gr-qc hep-ph quant-ph\n",
      "after: \n",
      " hep-th cond-mat\n"
     ]
    }
   ],
   "execution_count": 13
  },
  {
   "metadata": {},
   "cell_type": "markdown",
   "source": "Function is working correctly. Apply to all dataset",
   "id": "b391270ff8ed42f8"
  },
  {
   "metadata": {
    "ExecuteTime": {
     "end_time": "2025-08-19T13:47:31.747808Z",
     "start_time": "2025-08-19T13:47:31.666450Z"
    }
   },
   "cell_type": "code",
   "source": [
    "dataset_df = dataset_df.assign(\n",
    "    abstract = dataset_df['abstract'].apply(abstract_preprocessing),\n",
    "    categories = dataset_df['categories'].apply(category_processing)\n",
    ")\n",
    "print(dataset_df.info())\n",
    "dataset_df.head(10)"
   ],
   "id": "76e24ac03c7729a1",
   "outputs": [
    {
     "name": "stdout",
     "output_type": "stream",
     "text": [
      "<class 'pandas.core.frame.DataFrame'>\n",
      "RangeIndex: 2000 entries, 0 to 1999\n",
      "Data columns (total 2 columns):\n",
      " #   Column      Non-Null Count  Dtype \n",
      "---  ------      --------------  ----- \n",
      " 0   abstract    2000 non-null   object\n",
      " 1   categories  2000 non-null   object\n",
      "dtypes: object(2)\n",
      "memory usage: 31.4+ KB\n",
      "None\n"
     ]
    },
    {
     "data": {
      "text/plain": [
       "                                            abstract       categories\n",
       "0  the current computer programmings encapsulate ...               cs\n",
       "1  excitons bound pairs of electrons and holes fo...         cond-mat\n",
       "2  the odd reflections are an effective tool in t...             math\n",
       "3  in this study a novel method to obtain userdep...               cs\n",
       "4  we present a method to perform the exact convo...         astro-ph\n",
       "5  in this paper we investigate the properties of...             math\n",
       "6  the outoftimeordered correlation otoc function...  hep-th cond-mat\n",
       "7  we report the discovery of the first new pulsa...         astro-ph\n",
       "8  a locally threshold testable language l is a l...               cs\n",
       "9  this paper describes a simple ucca semantic gr...               cs"
      ],
      "text/html": [
       "<div>\n",
       "<style scoped>\n",
       "    .dataframe tbody tr th:only-of-type {\n",
       "        vertical-align: middle;\n",
       "    }\n",
       "\n",
       "    .dataframe tbody tr th {\n",
       "        vertical-align: top;\n",
       "    }\n",
       "\n",
       "    .dataframe thead th {\n",
       "        text-align: right;\n",
       "    }\n",
       "</style>\n",
       "<table border=\"1\" class=\"dataframe\">\n",
       "  <thead>\n",
       "    <tr style=\"text-align: right;\">\n",
       "      <th></th>\n",
       "      <th>abstract</th>\n",
       "      <th>categories</th>\n",
       "    </tr>\n",
       "  </thead>\n",
       "  <tbody>\n",
       "    <tr>\n",
       "      <th>0</th>\n",
       "      <td>the current computer programmings encapsulate ...</td>\n",
       "      <td>cs</td>\n",
       "    </tr>\n",
       "    <tr>\n",
       "      <th>1</th>\n",
       "      <td>excitons bound pairs of electrons and holes fo...</td>\n",
       "      <td>cond-mat</td>\n",
       "    </tr>\n",
       "    <tr>\n",
       "      <th>2</th>\n",
       "      <td>the odd reflections are an effective tool in t...</td>\n",
       "      <td>math</td>\n",
       "    </tr>\n",
       "    <tr>\n",
       "      <th>3</th>\n",
       "      <td>in this study a novel method to obtain userdep...</td>\n",
       "      <td>cs</td>\n",
       "    </tr>\n",
       "    <tr>\n",
       "      <th>4</th>\n",
       "      <td>we present a method to perform the exact convo...</td>\n",
       "      <td>astro-ph</td>\n",
       "    </tr>\n",
       "    <tr>\n",
       "      <th>5</th>\n",
       "      <td>in this paper we investigate the properties of...</td>\n",
       "      <td>math</td>\n",
       "    </tr>\n",
       "    <tr>\n",
       "      <th>6</th>\n",
       "      <td>the outoftimeordered correlation otoc function...</td>\n",
       "      <td>hep-th cond-mat</td>\n",
       "    </tr>\n",
       "    <tr>\n",
       "      <th>7</th>\n",
       "      <td>we report the discovery of the first new pulsa...</td>\n",
       "      <td>astro-ph</td>\n",
       "    </tr>\n",
       "    <tr>\n",
       "      <th>8</th>\n",
       "      <td>a locally threshold testable language l is a l...</td>\n",
       "      <td>cs</td>\n",
       "    </tr>\n",
       "    <tr>\n",
       "      <th>9</th>\n",
       "      <td>this paper describes a simple ucca semantic gr...</td>\n",
       "      <td>cs</td>\n",
       "    </tr>\n",
       "  </tbody>\n",
       "</table>\n",
       "</div>"
      ]
     },
     "execution_count": 14,
     "metadata": {},
     "output_type": "execute_result"
    }
   ],
   "execution_count": 14
  },
  {
   "metadata": {},
   "cell_type": "markdown",
   "source": "## 4. DATA EMBEDDING",
   "id": "57acb765e5270c5d"
  },
  {
   "metadata": {},
   "cell_type": "markdown",
   "source": "We shall apply 03 embedding method for text: CountVectorizer(), tfidf_vectorizer(), embedding_vectorizer()",
   "id": "dcbedb3cb66fc251"
  },
  {
   "metadata": {
    "ExecuteTime": {
     "end_time": "2025-08-19T13:54:08.065582Z",
     "start_time": "2025-08-19T13:54:08.060894Z"
    }
   },
   "cell_type": "code",
   "source": [
    "X_train, X_test, y_train, y_test = train_test_split(dataset_df['abstract'], dataset_df['categories'], test_size=0.2, random_state=42)\n",
    "print(f'Training sample: {len(X_train)}')\n",
    "print(f'Test sample: {len(X_test)}')"
   ],
   "id": "e28de66f50859426",
   "outputs": [
    {
     "name": "stdout",
     "output_type": "stream",
     "text": [
      "Training sample: 1600\n",
      "Test sample: 400\n"
     ]
    }
   ],
   "execution_count": 16
  },
  {
   "metadata": {
    "ExecuteTime": {
     "end_time": "2025-08-19T13:55:27.517971Z",
     "start_time": "2025-08-19T13:55:27.418983Z"
    }
   },
   "cell_type": "code",
   "source": [
    "bow_vectorizer = CountVectorizer()\n",
    "X_train_bow = bow_vectorizer.fit_transform(X_train)\n",
    "X_test_bow = bow_vectorizer.transform(X_test)\n",
    "print(X_train_bow.shape)\n",
    "print(X_test_bow.shape)\n",
    "print(X_train_bow[0])"
   ],
   "id": "294e853df777078d",
   "outputs": [
    {
     "name": "stdout",
     "output_type": "stream",
     "text": [
      "(1600, 18214)\n",
      "(400, 18214)\n",
      "<Compressed Sparse Row sparse matrix of dtype 'int64'\n",
      "\twith 128 stored elements and shape (1, 18214)>\n",
      "  Coords\tValues\n",
      "  (0, 291)\t1\n",
      "  (0, 7572)\t7\n",
      "  (0, 17545)\t1\n",
      "  (0, 13333)\t1\n",
      "  (0, 6895)\t1\n",
      "  (0, 6415)\t1\n",
      "  (0, 15690)\t1\n",
      "  (0, 7934)\t1\n",
      "  (0, 139)\t1\n",
      "  (0, 13685)\t1\n",
      "  (0, 620)\t5\n",
      "  (0, 15486)\t1\n",
      "  (0, 15101)\t1\n",
      "  (0, 1038)\t3\n",
      "  (0, 16306)\t11\n",
      "  (0, 7068)\t3\n",
      "  (0, 11433)\t2\n",
      "  (0, 555)\t2\n",
      "  (0, 7157)\t4\n",
      "  (0, 13673)\t1\n",
      "  (0, 6509)\t1\n",
      "  (0, 8203)\t1\n",
      "  (0, 13624)\t1\n",
      "  (0, 5906)\t1\n",
      "  (0, 13370)\t1\n",
      "  :\t:\n",
      "  (0, 15894)\t1\n",
      "  (0, 550)\t1\n",
      "  (0, 4150)\t1\n",
      "  (0, 2211)\t1\n",
      "  (0, 17840)\t1\n",
      "  (0, 14715)\t1\n",
      "  (0, 5027)\t1\n",
      "  (0, 11907)\t2\n",
      "  (0, 13032)\t2\n",
      "  (0, 13412)\t1\n",
      "  (0, 14702)\t1\n",
      "  (0, 11143)\t1\n",
      "  (0, 15639)\t1\n",
      "  (0, 5248)\t1\n",
      "  (0, 13790)\t1\n",
      "  (0, 12822)\t1\n",
      "  (0, 5277)\t1\n",
      "  (0, 4687)\t1\n",
      "  (0, 12780)\t1\n",
      "  (0, 16224)\t1\n",
      "  (0, 1679)\t1\n",
      "  (0, 6282)\t1\n",
      "  (0, 2726)\t1\n",
      "  (0, 5372)\t1\n",
      "  (0, 9808)\t1\n"
     ]
    }
   ],
   "execution_count": 17
  },
  {
   "metadata": {
    "ExecuteTime": {
     "end_time": "2025-08-19T13:56:41.041383Z",
     "start_time": "2025-08-19T13:56:40.942839Z"
    }
   },
   "cell_type": "code",
   "source": [
    "tfidf_vectorizer = TfidfVectorizer()\n",
    "X_train_tfidf = tfidf_vectorizer.fit_transform(X_train)\n",
    "X_test_tfidf = tfidf_vectorizer.transform(X_test)\n",
    "print(X_train_tfidf.shape)\n",
    "print(X_test_tfidf.shape)\n",
    "print(X_train_tfidf[0])"
   ],
   "id": "5064ba946619af4a",
   "outputs": [
    {
     "name": "stdout",
     "output_type": "stream",
     "text": [
      "(1600, 18214)\n",
      "(400, 18214)\n",
      "<Compressed Sparse Row sparse matrix of dtype 'float64'\n",
      "\twith 128 stored elements and shape (1, 18214)>\n",
      "  Coords\tValues\n",
      "  (0, 291)\t0.06681898346553641\n",
      "  (0, 7572)\t0.09513917189479192\n",
      "  (0, 17545)\t0.06972575904508457\n",
      "  (0, 13333)\t0.08099300931385327\n",
      "  (0, 6895)\t0.031277270739285934\n",
      "  (0, 6415)\t0.05227586449007577\n",
      "  (0, 15690)\t0.07057413600969109\n",
      "  (0, 7934)\t0.05169481519970106\n",
      "  (0, 139)\t0.06972575904508457\n",
      "  (0, 13685)\t0.08323494251074076\n",
      "  (0, 620)\t0.06614871747305989\n",
      "  (0, 15486)\t0.08099300931385327\n",
      "  (0, 15101)\t0.053309799999880204\n",
      "  (0, 1038)\t0.2497048275322223\n",
      "  (0, 16306)\t0.1378211109136448\n",
      "  (0, 7068)\t0.15341996329390403\n",
      "  (0, 11433)\t0.08249789216144436\n",
      "  (0, 555)\t0.18900438555901894\n",
      "  (0, 7157)\t0.3780087711180379\n",
      "  (0, 13673)\t0.05374901057115274\n",
      "  (0, 6509)\t0.0406182135360504\n",
      "  (0, 8203)\t0.035943698537157356\n",
      "  (0, 13624)\t0.08951635510879134\n",
      "  (0, 5906)\t0.06818667935451082\n",
      "  (0, 13370)\t0.042798816986301905\n",
      "  :\t:\n",
      "  (0, 15894)\t0.07471159671580269\n",
      "  (0, 550)\t0.07471159671580269\n",
      "  (0, 4150)\t0.08951635510879134\n",
      "  (0, 2211)\t0.06618825092086462\n",
      "  (0, 17840)\t0.0233430957730629\n",
      "  (0, 14715)\t0.05150707737426524\n",
      "  (0, 5027)\t0.07600717164313514\n",
      "  (0, 11907)\t0.16198601862770654\n",
      "  (0, 13032)\t0.11724713227317606\n",
      "  (0, 13412)\t0.07909748180462915\n",
      "  (0, 14702)\t0.05736127022472395\n",
      "  (0, 11143)\t0.06618825092086462\n",
      "  (0, 15639)\t0.08099300931385327\n",
      "  (0, 5248)\t0.05736127022472395\n",
      "  (0, 13790)\t0.02795740703500071\n",
      "  (0, 12822)\t0.04174417765417505\n",
      "  (0, 5277)\t0.055681857042891046\n",
      "  (0, 4687)\t0.059306885740922376\n",
      "  (0, 12780)\t0.039657631333492156\n",
      "  (0, 16224)\t0.04289092669571802\n",
      "  (0, 1679)\t0.0352788561544967\n",
      "  (0, 6282)\t0.07600717164313514\n",
      "  (0, 2726)\t0.04702838740182963\n",
      "  (0, 5372)\t0.04715851124795297\n",
      "  (0, 9808)\t0.04016552724977424\n"
     ]
    }
   ],
   "execution_count": 18
  },
  {
   "metadata": {},
   "cell_type": "markdown",
   "source": "#### Buld class of user-define vector embedding",
   "id": "2d83554f5c37f2c5"
  },
  {
   "metadata": {},
   "cell_type": "code",
   "outputs": [],
   "execution_count": null,
   "source": [
    "from typing import Literal, List\n",
    "\n",
    "class EmbeddingVectorizer:\n",
    "    \"\"\"\n",
    "    Vectorizer use SentenceTransformers (default: intfloat/multilingual-e5-base).\n",
    "    - mode='query'   -> prefix \"query: \"\n",
    "    - mode='passage' -> prefix \"passage: \"\n",
    "    - mode='raw'     -> giữ nguyên văn bản\n",
    "    \"\"\"\n",
    "\n",
    "    def __init__(self,\n",
    "                 model_name: str = 'intfloat/multilingual-e5-base',\n",
    "                 normalize: bool = True):\n",
    "        self.model_name = SentenceTransformer(model_name)\n",
    "        self.normalize = normalize\n",
    "\n",
    "    def _format_inputs(self,\n",
    "                       texts: List[str],\n",
    "                       mode: Literal['query', 'passage'] = 'query'):\n",
    "        if mode == 'raw':\n",
    "            inputs = texts\n",
    "        else:\n",
    "            inputs = self._format_inputs(texts, mode)\n",
    "\n",
    "        embeddings = self.model.encode(inputs, normalize_embeddings=self.normalize)\n",
    "        return embeddings.tolist()\n",
    "\n",
    "\n"
   ],
   "id": "6f744eae7767f699"
  }
 ],
 "metadata": {
  "kernelspec": {
   "display_name": "Python 3",
   "language": "python",
   "name": "python3"
  },
  "language_info": {
   "codemirror_mode": {
    "name": "ipython",
    "version": 2
   },
   "file_extension": ".py",
   "mimetype": "text/x-python",
   "name": "python",
   "nbconvert_exporter": "python",
   "pygments_lexer": "ipython2",
   "version": "2.7.6"
  }
 },
 "nbformat": 4,
 "nbformat_minor": 5
}
